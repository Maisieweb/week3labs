<!doctype html><html lang="en"><head><meta charset="utf-8"><title>JupyterLab</title><meta name="viewport" content="width=device-width,initial-scale=1">   <script id="jupyter-config-data" type="application/json">{"allow_hidden_files": false, "appName": "JupyterLab", "appNamespace": "lab", "appSettingsDir": "C:/Users/krist/miniconda3/share/jupyter/lab/settings", "appUrl": "/lab", "appVersion": "4.3.5", "baseUrl": "/", "buildAvailable": true, "buildCheck": true, "cacheFiles": false, "copyAbsolutePath": false, "devMode": false, "disabledExtensions": [], "exposeAppInBrowser": false, "extensionManager": {"can_install": true, "install_path": "C:\\Users\\krist\\miniconda3", "name": "PyPI"}, "extraLabextensionsPath": [], "federated_extensions": [{"entrypoints": null, "extension": "./extension", "load": "static/remoteEntry.5cbb9d2323598fbda535.js", "name": "jupyterlab_pygments", "style": "./style"}], "fullAppUrl": "/lab", "fullLabextensionsUrl": "/lab/extensions", "fullLicensesUrl": "/lab/api/licenses", "fullListingsUrl": "/lab/api/listings", "fullMathjaxUrl": "https://cdnjs.cloudflare.com/ajax/libs/mathjax/2.7.7/MathJax.js", "fullSettingsUrl": "/lab/api/settings", "fullStaticUrl": "/static/lab", "fullThemesUrl": "/lab/api/themes", "fullTranslationsApiUrl": "/lab/api/translations", "fullTreeUrl": "/lab/tree", "fullWorkspacesApiUrl": "/lab/api/workspaces", "ignorePlugins": [], "labextensionsPath": ["C:\\Users\\krist\\AppData\\Roaming\\jupyter\\labextensions", "C:\\Users\\krist\\AppData\\Roaming\\Python\\share\\jupyter\\labextensions", "C:\\Users\\krist\\miniconda3\\share\\jupyter\\labextensions", "C:\\ProgramData\\jupyter\\labextensions"], "labextensionsUrl": "/lab/extensions", "licensesUrl": "/lab/api/licenses", "listingsUrl": "/lab/api/listings", "mathjaxConfig": "TeX-AMS_HTML-full,Safe", "mode": "multiple-document", "news": {"disabled": false}, "notebookStartsKernel": true, "notebookVersion": "[2, 15, 0]", "preferredPath": "/", "quitButton": true, "rootUri": "file:///c:/Users/krist", "schemasDir": "C:/Users/krist/miniconda3/share/jupyter/lab/schemas", "serverRoot": "C:/Users/krist", "settingsUrl": "/lab/api/settings", "staticDir": "C:/Users/krist/miniconda3/share/jupyter/lab/static", "store_id": 1, "templatesDir": "C:/Users/krist/miniconda3/share/jupyter/lab/static", "terminalsAvailable": true, "themesDir": "C:/Users/krist/miniconda3/share/jupyter/lab/themes", "themesUrl": "/lab/api/themes", "token": "e22257eab9e0b19c79a7df0f20f576989cd781edb59a374b", "translationsApiUrl": "/lab/api/translations", "treePath": "Downloads", "treeUrl": "/lab/tree", "userSettingsDir": "C:/Users/krist/.jupyter/lab/user-settings", "virtualDocumentsUri": "file:///c:/Users/krist/.virtual_documents", "workspace": "default", "workspacesApiUrl": "/lab/api/workspaces", "workspacesDir": "C:/Users/krist/.jupyter/lab/workspaces", "wsUrl": ""}</script><link rel="icon" type="image/x-icon" href="/static/favicons/favicon.ico" class="idle favicon"><link rel="" type="image/x-icon" href="/static/favicons/favicon-busy-1.ico" class="busy favicon"> <script defer="defer" src="/static/lab/main.95fc40c7bae37144bdf8.js?v=95fc40c7bae37144bdf8"></script></head><body class="jp-ThemedContainer"><script>/* Remove token from URL. */
  (function () {
    var location = window.location;
    var search = location.search;

    // If there is no query string, bail.
    if (search.length <= 1) {
      return;
    }

    // Rebuild the query string without the `token`.
    var query = '?' + search.slice(1).split('&')
      .filter(function (param) { return param.split('=')[0] !== 'token'; })
      .join('&');

    // Rebuild the URL with the new query string.
    var url = location.origin + location.pathname +
      (query !== '?' ? query : '') + location.hash;

    if (url === location.href) {
      return;
    }

    window.history.replaceState({ }, '', url);
  })();</script></body></html>